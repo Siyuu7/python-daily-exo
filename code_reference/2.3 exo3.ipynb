{
 "cells": [
  {
   "cell_type": "markdown",
   "metadata": {},
   "source": [
    "Écrire une **fonction** qui prend en entrée une liste de mots, et renvoie la longueur moyenne des mots de la liste, ainsi que le nombre de mots de longueur supérieure ou égale à cette longueur moyenne. \n",
    "\n",
    "**Seules** fonctions prédéfinies utilisables : `len()`, `range()`."
   ]
  },
  {
   "cell_type": "code",
   "execution_count": 1,
   "metadata": {},
   "outputs": [],
   "source": [
    "def lgm(L):\n",
    "    \"renvoie la lgr moy des mots de la liste et le nb de mot de lgr >= moy\"\n",
    "    lg_totale = 0\n",
    "    for m in L:\n",
    "        lg_totale += len(m)\n",
    "    lg_moyenne = lg_totale / len(L)\n",
    "    nb_mots_longs = 0\n",
    "    for m in L:\n",
    "        if len(m) >= lg_moyenne:\n",
    "            nb_mots_longs += 1\n",
    "    return lg_moyenne, nb_mots_longs"
   ]
  },
  {
   "cell_type": "code",
   "execution_count": 2,
   "metadata": {},
   "outputs": [
    {
     "name": "stdout",
     "output_type": "stream",
     "text": [
      "Liste de mots de longueur moyenne 4.777778, 3 mot(s) plus longs.\n",
      "Liste de mots de longueur moyenne 4.222222, 3 mot(s) plus longs.\n",
      "Liste de mots de longueur moyenne 5.500000, 1 mot(s) plus longs.\n"
     ]
    }
   ],
   "source": [
    "L1 = \"Sois sage ô ma douleur et tiens-toi plus tranquille\".split()\n",
    "L2 = \"J'ai plus de souvenir que si j'avais mille ans\".split()\n",
    "L3 = \"mais ou et donc or ni car anticonstitutionnellement\".split()\n",
    "for L in (L1, L2, L3):\n",
    "    print(\"Liste de mots de longueur moyenne %f, %d mot(s) plus longs.\" % lgm(L))"
   ]
  }
 ],
 "metadata": {
  "kernelspec": {
   "display_name": "Python 3",
   "language": "python",
   "name": "python3"
  },
  "language_info": {
   "codemirror_mode": {
    "name": "ipython",
    "version": 3
   },
   "file_extension": ".py",
   "mimetype": "text/x-python",
   "name": "python",
   "nbconvert_exporter": "python",
   "pygments_lexer": "ipython3",
   "version": "3.8.12"
  }
 },
 "nbformat": 4,
 "nbformat_minor": 4
}
