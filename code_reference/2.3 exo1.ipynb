{
 "cells": [
  {
   "cell_type": "markdown",
   "metadata": {},
   "source": [
    "Ecrire un programme python qui détermine la longueur du préfixe commun de deux chaînes de caractères.\n",
    "Exemples\n",
    "- pour les chaînes s1 = \"maison\" et s2 = \"masure\", le résultat doit être 2\n",
    "- pour les chaînes s1 = \"maison\" et s2 = \"mais\", le résultat doit être 4\n",
    "- pour les chaînes s1 = \"maison\" et s2 = \"bicoque\", le résultat doit être 0"
   ]
  },
  {
   "cell_type": "code",
   "execution_count": 8,
   "metadata": {},
   "outputs": [
    {
     "name": "stdout",
     "output_type": "stream",
     "text": [
      "Longueur du préfixe commun  : 2 lettres.\n"
     ]
    }
   ],
   "source": [
    "mots_tests = [\"maison\", \"masure\", \"mais\", \"bicoque\"]\n",
    "s1 = mots_tests[0]\n",
    "s2 = mots_tests[1]\n",
    "\n",
    "c = 0\n",
    "i = 0\n",
    "while i < len(s1) and i < len(s2) and s1[i] == s2[i]:\n",
    "    c += 1\n",
    "    i += 1\n",
    "print(\"Longueur du préfixe commun  : %d lettres.\" % c)"
   ]
  },
  {
   "cell_type": "code",
   "execution_count": 10,
   "metadata": {},
   "outputs": [],
   "source": [
    "# Version sous la forme d'une fonction\n",
    "def longueur_prefixe_commun(s1,s2):\n",
    "    c = 0\n",
    "    i = 0\n",
    "    while i < len(s1) and i < len(s2) and s1[i] == s2[i]:\n",
    "        c += 1\n",
    "        i += 1\n",
    "    return c"
   ]
  },
  {
   "cell_type": "code",
   "execution_count": 11,
   "metadata": {},
   "outputs": [
    {
     "name": "stdout",
     "output_type": "stream",
     "text": [
      "Le préfixe commun entre maison et maison compte 6 lettres.\n",
      "Le préfixe commun entre maison et masure compte 2 lettres.\n",
      "Le préfixe commun entre maison et mais compte 4 lettres.\n",
      "Le préfixe commun entre maison et bicoque compte 0 lettres.\n",
      "Le préfixe commun entre masure et maison compte 2 lettres.\n",
      "Le préfixe commun entre masure et masure compte 6 lettres.\n",
      "Le préfixe commun entre masure et mais compte 2 lettres.\n",
      "Le préfixe commun entre mais et maison compte 4 lettres.\n",
      "Le préfixe commun entre mais et masure compte 2 lettres.\n",
      "Le préfixe commun entre bicoque et maison compte 0 lettres.\n"
     ]
    }
   ],
   "source": [
    "# test de la fonction avec différents mots: \n",
    "for i in range(len(mots_tests)):\n",
    "    for j in range(len(mots_tests[i:])):\n",
    "        s1 = mots_tests[i]\n",
    "        s2 = mots_tests[j]\n",
    "        print(\"Le préfixe commun entre %s et %s compte %d lettres.\" % (s1, s2, longueur_prefixe_commun(s1, s2)))"
   ]
  }
 ],
 "metadata": {
  "kernelspec": {
   "display_name": "Python 3",
   "language": "python",
   "name": "python3"
  },
  "language_info": {
   "codemirror_mode": {
    "name": "ipython",
    "version": 3
   },
   "file_extension": ".py",
   "mimetype": "text/x-python",
   "name": "python",
   "nbconvert_exporter": "python",
   "pygments_lexer": "ipython3",
   "version": "3.8.12"
  }
 },
 "nbformat": 4,
 "nbformat_minor": 4
}
