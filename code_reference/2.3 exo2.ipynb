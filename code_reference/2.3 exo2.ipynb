{
 "cells": [
  {
   "cell_type": "markdown",
   "metadata": {},
   "source": [
    "Ecrire un programme python qui affiche la chaîne `\"OK\"` s'il est vrai que le premier élément de la liste `L` est bien inférieur ou égal à tous les autres éléments de la liste. "
   ]
  },
  {
   "cell_type": "code",
   "execution_count": 4,
   "metadata": {},
   "outputs": [
    {
     "name": "stdout",
     "output_type": "stream",
     "text": [
      "OK\n"
     ]
    }
   ],
   "source": [
    "# Variable L initialisée aléatoirement\n",
    "L = [1,7,8,3,2,9,8,1]\n",
    "min = L[0]\n",
    "ok = True\n",
    "for e in L[1:]:\n",
    "    if e < min:\n",
    "        ok = False\n",
    "if ok:\n",
    "    print(\"OK\")"
   ]
  },
  {
   "cell_type": "code",
   "execution_count": 5,
   "metadata": {},
   "outputs": [],
   "source": [
    "# Version sous la forme d'une fonction\n",
    "# On n'a plus besoin du booléen ok\n",
    "def check_min_first(l):\n",
    "    min = l[0]\n",
    "    for e in l[1:]:\n",
    "        if e < min:\n",
    "            return False\n",
    "    return True"
   ]
  },
  {
   "cell_type": "code",
   "execution_count": 8,
   "metadata": {},
   "outputs": [
    {
     "name": "stdout",
     "output_type": "stream",
     "text": [
      "OK [1, 7, 8, 3, 2, 9, 8, 1]\n",
      "pas OK [7, 8, 3, 2, 9, 8, 1, 3]\n",
      "OK [0, 1, 2, 3, 4, 8, 1, 3]\n"
     ]
    }
   ],
   "source": [
    "# test de la fonction avec différentes listes : \n",
    "L = [1,7,8,3,2,9,8,1]\n",
    "M = [7,8,3,2,9,8,1,3]\n",
    "N = [0,1,2,3,4,8,1,3]\n",
    "mes_listes = [L,M,N]\n",
    "for l in mes_listes:\n",
    "    if check_min_first(l):\n",
    "        print(\"OK\", l)\n",
    "    else:\n",
    "        print(\"pas OK\", l)"
   ]
  },
  {
   "cell_type": "code",
   "execution_count": null,
   "metadata": {},
   "outputs": [],
   "source": []
  }
 ],
 "metadata": {
  "kernelspec": {
   "display_name": "Python 3",
   "language": "python",
   "name": "python3"
  },
  "language_info": {
   "codemirror_mode": {
    "name": "ipython",
    "version": 3
   },
   "file_extension": ".py",
   "mimetype": "text/x-python",
   "name": "python",
   "nbconvert_exporter": "python",
   "pygments_lexer": "ipython3",
   "version": "3.8.12"
  }
 },
 "nbformat": 4,
 "nbformat_minor": 4
}
