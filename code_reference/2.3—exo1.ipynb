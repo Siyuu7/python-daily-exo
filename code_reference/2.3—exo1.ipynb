{
 "cells": [
  {
   "cell_type": "markdown",
   "metadata": {},
   "source": [
    "Une liste `S` d'entiers est triée (en ordre décroissant) si et seulement si `S[i+1] <= S[i]` pour toutes les valeurs possibles de i.\n",
    "Ecrire une fonction qui prend en paramètre une liste d'entiers, et **renvoie** `True` si la liste est triée, `False` sinon."
   ]
  },
  {
   "cell_type": "code",
   "execution_count": 5,
   "metadata": {},
   "outputs": [],
   "source": [
    "# Version avec booléen, la plus typique de la programmation structurée\n",
    "# le break n'est pas indispensable, il évite de boucler inutilement.\n",
    "def verif_tri(S):\n",
    "    trie = True\n",
    "    for i in range(len(S)-1):\n",
    "        if S[i] < S[i+1]:\n",
    "            trie = False\n",
    "            break\n",
    "    return trie"
   ]
  },
  {
   "cell_type": "code",
   "execution_count": 8,
   "metadata": {},
   "outputs": [],
   "source": [
    "# Au lieu du break, on peut utiliser return pour sortir en avance d'une boucle\n",
    "def verif_tri_return(S):\n",
    "    for i in range(len(S)-1):\n",
    "        if S[i] < S[i+1]:\n",
    "            return False\n",
    "    return True"
   ]
  },
  {
   "cell_type": "code",
   "execution_count": 9,
   "metadata": {},
   "outputs": [],
   "source": [
    "# Version plus \"algorithmique\": tant que la condition est vérifiée on boucle.\n",
    "# Quand on s'arrête il faut tester la raison de l'arrêt.\n",
    "def verif_tri_compteur(S):\n",
    "    i = 0\n",
    "    while i<len(S)-1 and S[i] >= S[i+1]:\n",
    "        i += 1\n",
    "    return (i == len(S)-1 or len(S) == 0)"
   ]
  },
  {
   "cell_type": "code",
   "execution_count": 10,
   "metadata": {},
   "outputs": [
    {
     "name": "stdout",
     "output_type": "stream",
     "text": [
      "[23, 12, 7, 7, 2] True\n",
      "[23, 12, 7, 7, 2] True\n",
      "[23, 12, 7, 7, 2] True\n",
      "[7, 2, 8, 8] False\n",
      "[7, 2, 8, 8] False\n",
      "[7, 2, 8, 8] False\n",
      "[5, 5, 5, 5] True\n",
      "[5, 5, 5, 5] True\n",
      "[5, 5, 5, 5] True\n",
      "[] True\n",
      "[] True\n",
      "[] True\n"
     ]
    }
   ],
   "source": [
    "L1 = [23, 12, 7, 7, 2]\n",
    "L2 = [7,2,8,8]\n",
    "L3 = [5,5,5,5]\n",
    "L4 = []\n",
    "jeu_d_essai = [L1,L2,L3,L4]\n",
    "fonc_a_tester = [verif_tri, verif_tri_return, verif_tri_compteur]\n",
    "for L in jeu_d_essai:\n",
    "    for f in fonc_a_tester:\n",
    "        print(L, f(L))"
   ]
  },
  {
   "cell_type": "code",
   "execution_count": null,
   "metadata": {},
   "outputs": [],
   "source": []
  }
 ],
 "metadata": {
  "kernelspec": {
   "display_name": "Python 3",
   "language": "python",
   "name": "python3"
  },
  "language_info": {
   "codemirror_mode": {
    "name": "ipython",
    "version": 3
   },
   "file_extension": ".py",
   "mimetype": "text/x-python",
   "name": "python",
   "nbconvert_exporter": "python",
   "pygments_lexer": "ipython3",
   "version": "3.8.12"
  }
 },
 "nbformat": 4,
 "nbformat_minor": 4
}
